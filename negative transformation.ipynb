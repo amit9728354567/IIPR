{
 "cells": [
  {
   "cell_type": "code",
   "execution_count": 1,
   "metadata": {},
   "outputs": [],
   "source": [
    "import cv2"
   ]
  },
  {
   "cell_type": "code",
   "execution_count": 2,
   "metadata": {},
   "outputs": [],
   "source": [
    "import numpy as np"
   ]
  },
  {
   "cell_type": "code",
   "execution_count": 3,
   "metadata": {},
   "outputs": [],
   "source": [
    "import matplotlib.pyplot as plt"
   ]
  },
  {
   "cell_type": "code",
   "execution_count": 4,
   "metadata": {},
   "outputs": [],
   "source": [
    "from PIL import Image"
   ]
  },
  {
   "cell_type": "code",
   "execution_count": 5,
   "metadata": {},
   "outputs": [],
   "source": [
    "pic1 = cv2.imread(\"3.jpg\")"
   ]
  },
  {
   "cell_type": "code",
   "execution_count": 6,
   "metadata": {},
   "outputs": [
    {
     "data": {
      "text/plain": [
       "array([[[81, 50, 19],\n",
       "        [81, 50, 19],\n",
       "        [81, 50, 19],\n",
       "        ...,\n",
       "        [87, 56, 23],\n",
       "        [87, 56, 23],\n",
       "        [87, 56, 23]],\n",
       "\n",
       "       [[81, 50, 19],\n",
       "        [81, 50, 19],\n",
       "        [81, 50, 19],\n",
       "        ...,\n",
       "        [87, 56, 23],\n",
       "        [87, 56, 23],\n",
       "        [87, 56, 23]],\n",
       "\n",
       "       [[81, 50, 19],\n",
       "        [81, 50, 19],\n",
       "        [81, 50, 19],\n",
       "        ...,\n",
       "        [88, 55, 22],\n",
       "        [88, 55, 22],\n",
       "        [88, 55, 22]],\n",
       "\n",
       "       ...,\n",
       "\n",
       "       [[ 2, 21, 66],\n",
       "        [ 2, 21, 66],\n",
       "        [ 1, 20, 63],\n",
       "        ...,\n",
       "        [ 0, 21, 85],\n",
       "        [ 0, 20, 85],\n",
       "        [ 2, 25, 87]],\n",
       "\n",
       "       [[ 2, 21, 66],\n",
       "        [ 2, 21, 66],\n",
       "        [ 2, 21, 64],\n",
       "        ...,\n",
       "        [ 0, 20, 82],\n",
       "        [ 0, 21, 83],\n",
       "        [ 2, 26, 86]],\n",
       "\n",
       "       [[ 3, 22, 67],\n",
       "        [ 3, 22, 67],\n",
       "        [ 2, 21, 64],\n",
       "        ...,\n",
       "        [ 0, 22, 84],\n",
       "        [ 1, 25, 85],\n",
       "        [ 6, 30, 90]]], dtype=uint8)"
      ]
     },
     "execution_count": 6,
     "metadata": {},
     "output_type": "execute_result"
    }
   ],
   "source": [
    "pic1"
   ]
  },
  {
   "cell_type": "code",
   "execution_count": 7,
   "metadata": {},
   "outputs": [],
   "source": [
    "negative = cv2.bitwise_not(pic1)"
   ]
  },
  {
   "cell_type": "code",
   "execution_count": 8,
   "metadata": {},
   "outputs": [
    {
     "data": {
      "text/plain": [
       "array([[[174, 205, 236],\n",
       "        [174, 205, 236],\n",
       "        [174, 205, 236],\n",
       "        ...,\n",
       "        [168, 199, 232],\n",
       "        [168, 199, 232],\n",
       "        [168, 199, 232]],\n",
       "\n",
       "       [[174, 205, 236],\n",
       "        [174, 205, 236],\n",
       "        [174, 205, 236],\n",
       "        ...,\n",
       "        [168, 199, 232],\n",
       "        [168, 199, 232],\n",
       "        [168, 199, 232]],\n",
       "\n",
       "       [[174, 205, 236],\n",
       "        [174, 205, 236],\n",
       "        [174, 205, 236],\n",
       "        ...,\n",
       "        [167, 200, 233],\n",
       "        [167, 200, 233],\n",
       "        [167, 200, 233]],\n",
       "\n",
       "       ...,\n",
       "\n",
       "       [[253, 234, 189],\n",
       "        [253, 234, 189],\n",
       "        [254, 235, 192],\n",
       "        ...,\n",
       "        [255, 234, 170],\n",
       "        [255, 235, 170],\n",
       "        [253, 230, 168]],\n",
       "\n",
       "       [[253, 234, 189],\n",
       "        [253, 234, 189],\n",
       "        [253, 234, 191],\n",
       "        ...,\n",
       "        [255, 235, 173],\n",
       "        [255, 234, 172],\n",
       "        [253, 229, 169]],\n",
       "\n",
       "       [[252, 233, 188],\n",
       "        [252, 233, 188],\n",
       "        [253, 234, 191],\n",
       "        ...,\n",
       "        [255, 233, 171],\n",
       "        [254, 230, 170],\n",
       "        [249, 225, 165]]], dtype=uint8)"
      ]
     },
     "execution_count": 8,
     "metadata": {},
     "output_type": "execute_result"
    }
   ],
   "source": [
    "negative"
   ]
  },
  {
   "cell_type": "code",
   "execution_count": 9,
   "metadata": {},
   "outputs": [
    {
     "data": {
      "text/plain": [
       "-1"
      ]
     },
     "execution_count": 9,
     "metadata": {},
     "output_type": "execute_result"
    }
   ],
   "source": [
    "cv2.imshow('Original Image', pic1) \n",
    "\n",
    "cv2.waitKey(0)"
   ]
  },
  {
   "cell_type": "code",
   "execution_count": 10,
   "metadata": {},
   "outputs": [
    {
     "data": {
      "text/plain": [
       "-1"
      ]
     },
     "execution_count": 10,
     "metadata": {},
     "output_type": "execute_result"
    }
   ],
   "source": [
    "cv2.imshow('-ve Image', negative) \n",
    "\n",
    "cv2.waitKey(0)"
   ]
  },
  {
   "cell_type": "code",
   "execution_count": null,
   "metadata": {},
   "outputs": [],
   "source": []
  }
 ],
 "metadata": {
  "kernelspec": {
   "display_name": "Python 3",
   "language": "python",
   "name": "python3"
  },
  "language_info": {
   "codemirror_mode": {
    "name": "ipython",
    "version": 3
   },
   "file_extension": ".py",
   "mimetype": "text/x-python",
   "name": "python",
   "nbconvert_exporter": "python",
   "pygments_lexer": "ipython3",
   "version": "3.8.3"
  }
 },
 "nbformat": 4,
 "nbformat_minor": 4
}
