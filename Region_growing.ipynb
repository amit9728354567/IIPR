{
 "cells": [
  {
   "cell_type": "code",
   "execution_count": 1,
   "metadata": {},
   "outputs": [],
   "source": [
    "import cv2 \n",
    "import numpy as np\n",
    "from matplotlib import pyplot as plt\n",
    "import sys"
   ]
  },
  {
   "cell_type": "code",
   "execution_count": 2,
   "metadata": {},
   "outputs": [],
   "source": [
    "def on_mouse(event, x, y, flags, params):\n",
    "    if event == cv2.EVENT_LBUTTONDOWN:\n",
    "        print('Start Mouse Position: ' + str(x) + ', ' + str(y))\n",
    "        s_box = x, y\n",
    "        boxes.append(s_box)"
   ]
  },
  {
   "cell_type": "code",
   "execution_count": 3,
   "metadata": {},
   "outputs": [],
   "source": [
    "def region_growing(img, seed):\n",
    "    #Parameters for region growing\n",
    "    neighbors = [(-1, 0), (1, 0), (0, -1), (0, 1)]\n",
    "    region_threshold = 0.2\n",
    "    region_size = 1\n",
    "    intensity_difference = 0\n",
    "    neighbor_points_list = []\n",
    "    neighbor_intensity_list = []\n",
    "\n",
    "    #Mean of the segmented region\n",
    "    region_mean = img[seed]\n",
    "\n",
    "    #Input image parameters\n",
    "    height, width = img.shape\n",
    "    image_size = height * width\n",
    "\n",
    "    #Initialize segmented output image\n",
    "    segmented_img = np.zeros((height, width, 1), np.uint8)\n",
    "\n",
    "    #Region growing until intensity difference becomes greater than certain threshold\n",
    "    while (intensity_difference < region_threshold) & (region_size < image_size):\n",
    "        #Loop through neighbor pixels\n",
    "        for i in range(4):\n",
    "            #Compute the neighbor pixel position\n",
    "            x_new = seed[0] + neighbors[i][0]\n",
    "            y_new = seed[1] + neighbors[i][1]\n",
    "\n",
    "            #Boundary Condition - check if the coordinates are inside the image\n",
    "            check_inside = (x_new >= 0) & (y_new >= 0) & (x_new < height) & (y_new < width)\n",
    "\n",
    "            #Add neighbor if inside and not already in segmented_img\n",
    "            if check_inside:\n",
    "                if segmented_img[x_new, y_new] == 0:\n",
    "                    neighbor_points_list.append([x_new, y_new])\n",
    "                    neighbor_intensity_list.append(img[x_new, y_new])\n",
    "                    segmented_img[x_new, y_new] = 255\n",
    "\n",
    "        #Add pixel with intensity nearest to the mean to the region\n",
    "        distance = abs(neighbor_intensity_list-region_mean)\n",
    "        pixel_distance = min(distance)\n",
    "        index = np.where(distance == pixel_distance)[0][0]\n",
    "        segmented_img[seed[0], seed[1]] = 255\n",
    "        region_size += 1\n",
    "\n",
    "        #New region mean\n",
    "        region_mean = (region_mean*region_size + neighbor_intensity_list[index])/(region_size+1)\n",
    "\n",
    "        #Update the seed value\n",
    "        seed = neighbor_points_list[index]\n",
    "        #Remove the value from the neighborhood lists\n",
    "        neighbor_intensity_list[index] = neighbor_intensity_list[-1]\n",
    "        neighbor_points_list[index] = neighbor_points_list[-1]\n",
    "\n",
    "    return segmented_img"
   ]
  },
  {
   "cell_type": "code",
   "execution_count": null,
   "metadata": {},
   "outputs": [
    {
     "name": "stdout",
     "output_type": "stream",
     "text": [
      "Start Mouse Position: 62, 53\n",
      "Start Mouse Position: 143, 89\n",
      "Start Mouse Position: 112, 156\n",
      "Start Mouse Position: 157, 217\n",
      "Starting region growing based on last click\n",
      "Done. Showing output now\n"
     ]
    }
   ],
   "source": [
    "boxes = []\n",
    "filename = 'imagess.jpg'\n",
    "img = cv2.imread(filename, 0)\n",
    "resized = cv2.resize(img,(256,256))\n",
    "cv2.namedWindow('input')\n",
    "cv2.setMouseCallback('input', on_mouse, 0,)\n",
    "cv2.imshow('input', resized)\n",
    "cv2.waitKey()\n",
    "print(\"Starting region growing based on last click\")\n",
    "seed = boxes[-1]\n",
    "cv2.imshow('input', region_growing(resized, seed))\n",
    "print(\"Done. Showing output now\")\n",
    "\n",
    "cv2.waitKey()\n",
    "cv2.destroyAllWindows()\n",
    "\n"
   ]
  },
  {
   "cell_type": "code",
   "execution_count": null,
   "metadata": {},
   "outputs": [],
   "source": []
  }
 ],
 "metadata": {
  "kernelspec": {
   "display_name": "Python 3",
   "language": "python",
   "name": "python3"
  },
  "language_info": {
   "codemirror_mode": {
    "name": "ipython",
    "version": 3
   },
   "file_extension": ".py",
   "mimetype": "text/x-python",
   "name": "python",
   "nbconvert_exporter": "python",
   "pygments_lexer": "ipython3",
   "version": "3.8.3"
  }
 },
 "nbformat": 4,
 "nbformat_minor": 4
}
